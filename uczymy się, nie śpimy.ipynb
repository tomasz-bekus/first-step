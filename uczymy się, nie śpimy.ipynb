{
  "nbformat": 4,
  "nbformat_minor": 0,
  "metadata": {
    "colab": {
      "name": "Untitled0.ipynb",
      "provenance": [],
      "authorship_tag": "ABX9TyMu/OtNflbE2fDQk7Gs216P",
      "include_colab_link": true
    },
    "kernelspec": {
      "name": "python3",
      "display_name": "Python 3"
    },
    "language_info": {
      "name": "python"
    }
  },
  "cells": [
    {
      "cell_type": "markdown",
      "metadata": {
        "id": "view-in-github",
        "colab_type": "text"
      },
      "source": [
        "<a href=\"https://colab.research.google.com/github/tomasz-bekus/first-step/blob/main/uczymy%20si%C4%99%2C%20nie%20%C5%9Bpimy.ipynb\" target=\"_parent\"><img src=\"https://colab.research.google.com/assets/colab-badge.svg\" alt=\"Open In Colab\"/></a>"
      ]
    },
    {
      "cell_type": "code",
      "metadata": {
        "id": "VegPEgs1_QjB"
      },
      "source": [
        "import numpy as np"
      ],
      "execution_count": 6,
      "outputs": []
    },
    {
      "cell_type": "code",
      "metadata": {
        "colab": {
          "base_uri": "https://localhost:8080/"
        },
        "id": "LZfaBt-dAPUv",
        "outputId": "917818e4-b94a-493c-9ad2-39c761cf4264"
      },
      "source": [
        "A = np.arange(4,5)\n",
        "A"
      ],
      "execution_count": 40,
      "outputs": [
        {
          "output_type": "execute_result",
          "data": {
            "text/plain": [
              "array([4])"
            ]
          },
          "metadata": {
            "tags": []
          },
          "execution_count": 40
        }
      ]
    },
    {
      "cell_type": "code",
      "metadata": {
        "id": "kBq5TJ4zAZ5v"
      },
      "source": [
        "# A[idx], A[start:stop], A[start:]"
      ],
      "execution_count": null,
      "outputs": []
    },
    {
      "cell_type": "code",
      "metadata": {
        "colab": {
          "base_uri": "https://localhost:8080/"
        },
        "id": "csp5gQXHArPI",
        "outputId": "f81923cb-f874-4e44-ea33-5a449c74f053"
      },
      "source": [
        "A[2]"
      ],
      "execution_count": 8,
      "outputs": [
        {
          "output_type": "execute_result",
          "data": {
            "text/plain": [
              "2"
            ]
          },
          "metadata": {
            "tags": []
          },
          "execution_count": 8
        }
      ]
    },
    {
      "cell_type": "code",
      "metadata": {
        "colab": {
          "base_uri": "https://localhost:8080/"
        },
        "id": "zmX8FerOAxge",
        "outputId": "c347dd0b-5e1c-483a-bd3d-35d1fd8d806e"
      },
      "source": [
        "A[2:]"
      ],
      "execution_count": 9,
      "outputs": [
        {
          "output_type": "execute_result",
          "data": {
            "text/plain": [
              "array([ 2,  3,  4,  5,  6,  7,  8,  9, 10, 11, 12, 13, 14, 15, 16, 17, 18,\n",
              "       19])"
            ]
          },
          "metadata": {
            "tags": []
          },
          "execution_count": 9
        }
      ]
    },
    {
      "cell_type": "code",
      "metadata": {
        "colab": {
          "base_uri": "https://localhost:8080/"
        },
        "id": "4qi-6iH_A3ju",
        "outputId": "812b8800-ac8c-4226-c21e-26c289c3367e"
      },
      "source": [
        "A[:2]"
      ],
      "execution_count": 10,
      "outputs": [
        {
          "output_type": "execute_result",
          "data": {
            "text/plain": [
              "array([0, 1])"
            ]
          },
          "metadata": {
            "tags": []
          },
          "execution_count": 10
        }
      ]
    },
    {
      "cell_type": "code",
      "metadata": {
        "colab": {
          "base_uri": "https://localhost:8080/"
        },
        "id": "h2DdfAX4A7ka",
        "outputId": "ad2a902b-68da-43c1-cd59-ba75f59da291"
      },
      "source": [
        "A[[0, 2]]"
      ],
      "execution_count": 11,
      "outputs": [
        {
          "output_type": "execute_result",
          "data": {
            "text/plain": [
              "array([0, 2])"
            ]
          },
          "metadata": {
            "tags": []
          },
          "execution_count": 11
        }
      ]
    },
    {
      "cell_type": "code",
      "metadata": {
        "colab": {
          "base_uri": "https://localhost:8080/"
        },
        "id": "QgBhNNn7BDNl",
        "outputId": "09d880ff-62cb-46f8-a196-3dfdfba0b690"
      },
      "source": [
        "A[-1]"
      ],
      "execution_count": 12,
      "outputs": [
        {
          "output_type": "execute_result",
          "data": {
            "text/plain": [
              "19"
            ]
          },
          "metadata": {
            "tags": []
          },
          "execution_count": 12
        }
      ]
    },
    {
      "cell_type": "code",
      "metadata": {
        "colab": {
          "base_uri": "https://localhost:8080/"
        },
        "id": "SJRHxv-XBFzP",
        "outputId": "1757a089-c643-41da-b86c-cc0e3ebe241e"
      },
      "source": [
        "A[10:15]"
      ],
      "execution_count": 13,
      "outputs": [
        {
          "output_type": "execute_result",
          "data": {
            "text/plain": [
              "array([10, 11, 12, 13, 14])"
            ]
          },
          "metadata": {
            "tags": []
          },
          "execution_count": 13
        }
      ]
    },
    {
      "cell_type": "code",
      "metadata": {
        "colab": {
          "base_uri": "https://localhost:8080/",
          "height": 172
        },
        "id": "-tLNqUYgBKpv",
        "outputId": "3a7ec621-8f99-42f9-c444-0efad1f78756"
      },
      "source": [
        "A.reshape(4, 5)"
      ],
      "execution_count": 42,
      "outputs": [
        {
          "output_type": "error",
          "ename": "ValueError",
          "evalue": "ignored",
          "traceback": [
            "\u001b[0;31m---------------------------------------------------------------------------\u001b[0m",
            "\u001b[0;31mValueError\u001b[0m                                Traceback (most recent call last)",
            "\u001b[0;32m<ipython-input-42-2751bbc05518>\u001b[0m in \u001b[0;36m<module>\u001b[0;34m()\u001b[0m\n\u001b[0;32m----> 1\u001b[0;31m \u001b[0mA\u001b[0m\u001b[0;34m.\u001b[0m\u001b[0mreshape\u001b[0m\u001b[0;34m(\u001b[0m\u001b[0;36m4\u001b[0m\u001b[0;34m,\u001b[0m \u001b[0;36m5\u001b[0m\u001b[0;34m)\u001b[0m\u001b[0;34m\u001b[0m\u001b[0;34m\u001b[0m\u001b[0m\n\u001b[0m",
            "\u001b[0;31mValueError\u001b[0m: cannot reshape array of size 1 into shape (4,5)"
          ]
        }
      ]
    },
    {
      "cell_type": "code",
      "metadata": {
        "colab": {
          "base_uri": "https://localhost:8080/"
        },
        "id": "JqWE0-sHB_km",
        "outputId": "eeaaf693-b4ce-4b51-e40a-dd14a0c200bb"
      },
      "source": [
        "A"
      ],
      "execution_count": 37,
      "outputs": [
        {
          "output_type": "execute_result",
          "data": {
            "text/plain": [
              "array([ 0,  1,  2,  3,  4,  5,  6,  7,  8,  9, 10, 11, 12, 13, 14, 15, 16,\n",
              "       17, 18, 19])"
            ]
          },
          "metadata": {
            "tags": []
          },
          "execution_count": 37
        }
      ]
    },
    {
      "cell_type": "code",
      "metadata": {
        "id": "BVmzNB69CM0C"
      },
      "source": [
        "for row in A:\n",
        "  print(row:)"
      ],
      "execution_count": 37,
      "outputs": []
    },
    {
      "cell_type": "code",
      "metadata": {
        "colab": {
          "base_uri": "https://localhost:8080/"
        },
        "id": "CK2TcobHCPNN",
        "outputId": "1f392066-d583-477d-bf41-8aa952c30c76"
      },
      "source": [
        "A.shape"
      ],
      "execution_count": 43,
      "outputs": [
        {
          "output_type": "execute_result",
          "data": {
            "text/plain": [
              "(1,)"
            ]
          },
          "metadata": {
            "tags": []
          },
          "execution_count": 43
        }
      ]
    },
    {
      "cell_type": "code",
      "metadata": {
        "colab": {
          "base_uri": "https://localhost:8080/"
        },
        "id": "CqImPWM6Cyis",
        "outputId": "8cea43ec-e2c8-45f6-b59a-6b07c667010f"
      },
      "source": [
        "A.T"
      ],
      "execution_count": 45,
      "outputs": [
        {
          "output_type": "execute_result",
          "data": {
            "text/plain": [
              "array([4])"
            ]
          },
          "metadata": {
            "tags": []
          },
          "execution_count": 45
        }
      ]
    },
    {
      "cell_type": "code",
      "metadata": {
        "colab": {
          "base_uri": "https://localhost:8080/"
        },
        "id": "_8Dco5p6C2El",
        "outputId": "a6e15590-75f6-4de5-f97a-254b4e659137"
      },
      "source": [
        "A = np.arange(start=-10, stop=10, step=0.5)\n",
        "A = A.reshape(10, -1)\n",
        "A"
      ],
      "execution_count": 49,
      "outputs": [
        {
          "output_type": "execute_result",
          "data": {
            "text/plain": [
              "array([[-10. ,  -9.5,  -9. ,  -8.5],\n",
              "       [ -8. ,  -7.5,  -7. ,  -6.5],\n",
              "       [ -6. ,  -5.5,  -5. ,  -4.5],\n",
              "       [ -4. ,  -3.5,  -3. ,  -2.5],\n",
              "       [ -2. ,  -1.5,  -1. ,  -0.5],\n",
              "       [  0. ,   0.5,   1. ,   1.5],\n",
              "       [  2. ,   2.5,   3. ,   3.5],\n",
              "       [  4. ,   4.5,   5. ,   5.5],\n",
              "       [  6. ,   6.5,   7. ,   7.5],\n",
              "       [  8. ,   8.5,   9. ,   9.5]])"
            ]
          },
          "metadata": {
            "tags": []
          },
          "execution_count": 49
        }
      ]
    },
    {
      "cell_type": "code",
      "metadata": {
        "colab": {
          "base_uri": "https://localhost:8080/"
        },
        "id": "d1FqzuyLDKV4",
        "outputId": "ac61ad67-1897-4dac-8d7d-e955162c31ab"
      },
      "source": [
        "A > 0"
      ],
      "execution_count": 51,
      "outputs": [
        {
          "output_type": "execute_result",
          "data": {
            "text/plain": [
              "array([[False, False, False, False],\n",
              "       [False, False, False, False],\n",
              "       [False, False, False, False],\n",
              "       [False, False, False, False],\n",
              "       [False, False, False, False],\n",
              "       [False,  True,  True,  True],\n",
              "       [ True,  True,  True,  True],\n",
              "       [ True,  True,  True,  True],\n",
              "       [ True,  True,  True,  True],\n",
              "       [ True,  True,  True,  True]])"
            ]
          },
          "metadata": {
            "tags": []
          },
          "execution_count": 51
        }
      ]
    },
    {
      "cell_type": "code",
      "metadata": {
        "colab": {
          "base_uri": "https://localhost:8080/"
        },
        "id": "wvmtcAm2DNwd",
        "outputId": "1b69ee48-a5b4-4856-f989-0a9f60600163"
      },
      "source": [
        "A[A > 0]"
      ],
      "execution_count": 53,
      "outputs": [
        {
          "output_type": "execute_result",
          "data": {
            "text/plain": [
              "array([0.5, 1. , 1.5, 2. , 2.5, 3. , 3.5, 4. , 4.5, 5. , 5.5, 6. , 6.5,\n",
              "       7. , 7.5, 8. , 8.5, 9. , 9.5])"
            ]
          },
          "metadata": {
            "tags": []
          },
          "execution_count": 53
        }
      ]
    },
    {
      "cell_type": "code",
      "metadata": {
        "colab": {
          "base_uri": "https://localhost:8080/"
        },
        "id": "DAd_Fkx6DTPU",
        "outputId": "ad9aa871-fa39-4030-f2b6-f8a1aa60b492"
      },
      "source": [
        "np.bitwise_and(A > -5, A < 5)"
      ],
      "execution_count": 55,
      "outputs": [
        {
          "output_type": "execute_result",
          "data": {
            "text/plain": [
              "array([[False, False, False, False],\n",
              "       [False, False, False, False],\n",
              "       [False, False, False,  True],\n",
              "       [ True,  True,  True,  True],\n",
              "       [ True,  True,  True,  True],\n",
              "       [ True,  True,  True,  True],\n",
              "       [ True,  True,  True,  True],\n",
              "       [ True,  True, False, False],\n",
              "       [False, False, False, False],\n",
              "       [False, False, False, False]])"
            ]
          },
          "metadata": {
            "tags": []
          },
          "execution_count": 55
        }
      ]
    },
    {
      "cell_type": "code",
      "metadata": {
        "colab": {
          "base_uri": "https://localhost:8080/"
        },
        "id": "-MrcHccYDh9t",
        "outputId": "d0d27130-aba2-4895-f530-cbce62bbe6a3"
      },
      "source": [
        "A[np.bitwise_and(A > -5, A < 5)]"
      ],
      "execution_count": 57,
      "outputs": [
        {
          "output_type": "execute_result",
          "data": {
            "text/plain": [
              "array([-4.5, -4. , -3.5, -3. , -2.5, -2. , -1.5, -1. , -0.5,  0. ,  0.5,\n",
              "        1. ,  1.5,  2. ,  2.5,  3. ,  3.5,  4. ,  4.5])"
            ]
          },
          "metadata": {
            "tags": []
          },
          "execution_count": 57
        }
      ]
    },
    {
      "cell_type": "code",
      "metadata": {
        "colab": {
          "base_uri": "https://localhost:8080/"
        },
        "id": "k3_cyHclDmAV",
        "outputId": "e292e8ad-7e6b-4f20-e5e6-5baec2c70a74"
      },
      "source": [
        "np.bitwise_or(A < -5, A > 5)"
      ],
      "execution_count": 58,
      "outputs": [
        {
          "output_type": "execute_result",
          "data": {
            "text/plain": [
              "array([[ True,  True,  True,  True],\n",
              "       [ True,  True,  True,  True],\n",
              "       [ True,  True, False, False],\n",
              "       [False, False, False, False],\n",
              "       [False, False, False, False],\n",
              "       [False, False, False, False],\n",
              "       [False, False, False, False],\n",
              "       [False, False, False,  True],\n",
              "       [ True,  True,  True,  True],\n",
              "       [ True,  True,  True,  True]])"
            ]
          },
          "metadata": {
            "tags": []
          },
          "execution_count": 58
        }
      ]
    }
  ]
}